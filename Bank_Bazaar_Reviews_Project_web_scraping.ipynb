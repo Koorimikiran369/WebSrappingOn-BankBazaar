{
 "cells": [
  {
   "cell_type": "code",
   "execution_count": 1,
   "metadata": {},
   "outputs": [],
   "source": [
    "# Taking all libraries which are useful to do [web scraping,create dataframe] \n",
    "import pandas as pd # used to create DataFrame\n",
    "import numpy as np # used to create array of a single column\n",
    "import re # used to Regular Expressions\n",
    "import requests # Used to get the page\n",
    "from bs4 import BeautifulSoup # used for creating a html doc in to text\n"
   ]
  },
  {
   "cell_type": "markdown",
   "metadata": {},
   "source": [
    "## Motto of Project: \n",
    "### Giving the solution to customers of banking service, which bank is best for them in various aspect as reviews of the bank."
   ]
  },
  {
   "cell_type": "markdown",
   "metadata": {},
   "source": [
    "**Theme of My_Project is:**\n",
    "- Taking the data from BankBazaar web page, those are few types of banks in india \n",
    "- give the solutions to the customers who are at confusion state  to which bank is suitable for them as various \n",
    "- when choosing the account type as taking credit card, personal loan, saving account etc.,  which is best bank "
   ]
  },
  {
   "cell_type": "code",
   "execution_count": 46,
   "metadata": {},
   "outputs": [],
   "source": [
    "# assign the columns which i taking in my DataFrame as a empty list:\n",
    "Bank_Name = []\n",
    "Bank_Type = []\n",
    "Location = []\n",
    "Bank_Caption = []\n",
    "User_Name = []\n",
    "Bank_Rating = []\n",
    "Rating_Comment = []\n",
    "User_Comment = []\n"
   ]
  },
  {
   "cell_type": "code",
   "execution_count": 47,
   "metadata": {},
   "outputs": [],
   "source": [
    "for i in range(1,200,1):\n",
    "    page = requests.get('https://www.bankbazaar.com/reviews.html?reviewPageNumber={}'.format(i))\n",
    "    soup = BeautifulSoup(page.text,'html.parser')   \n",
    "    bank = soup.find_all('div',class_='review-bank-title')\n",
    "    b_type = soup.find_all('div',{'itemprop':'itemReviewed'})\n",
    "    city = soup.find_all('div',class_='reviewer-profile')\n",
    "    code = soup.find_all('a',{'data-actionloc':'reviews:ReviewCards'})\n",
    "\n",
    "    name = soup.find_all(class_ = 'js-author-name')\n",
    "    rating = soup.find_all('span',{'itemprop':'ratingvalue'})  \n",
    "    word = soup.find_all('div',class_='rating-section review-user-score')\n",
    "    reviwes = soup.find_all(class_= 'text_here review-desc-more')\n",
    "\n",
    "    for item in bank:\n",
    "        Bank_Name.append(item.find('img').get('alt'))\n",
    "        \n",
    "    for k in b_type:\n",
    "        x = k.text\n",
    "        if len(re.findall(r'[LTCSPO]\\w+\\s\\w+',x)) == 1:\n",
    "            Bank_Type.append(re.findall(r'[LTCSPO]\\w+\\s\\w+',x)[0])\n",
    "        else:\n",
    "            Bank_Type.append(np.nan)\n",
    "            \n",
    "    for k in city:\n",
    "        x = k.text\n",
    "        if len(re.findall(r',\\s[a-z]\\w+',x)) == 1:\n",
    "            Location.append(re.findall(r',\\s[a-z]\\w+',x)[0])\n",
    "        else:\n",
    "            Location.append(np.nan) \n",
    "    \n",
    "    for item in code:\n",
    "        Bank_Caption.append(item.text)\n",
    "        \n",
    "            \n",
    "    for j in range(len(name)): \n",
    "        if name[j]:\n",
    "            n = name[j].text\n",
    "        else:\n",
    "            n=np.nan  \n",
    "        User_Name.append(n)\n",
    "            \n",
    "    for k in word:\n",
    "        x = k.text\n",
    "        if len(re.findall(r'\\b[GBPS]\\w+',x)) == 1:\n",
    "            Rating_Comment.append(re.findall(r'\\b[GBPS]\\w+',x)[0])\n",
    "        else:\n",
    "            Rating_Comment.append(np.nan) \n",
    "    \n",
    "    for j in range(len(rating)):\n",
    "        if rating[j]:\n",
    "            n = rating[j].text\n",
    "        else:\n",
    "            n= np.nan\n",
    "        Bank_Rating.append(n)\n",
    "    \n",
    "\n",
    "    for item in reviwes:\n",
    "        User_Comment.append(item.text)\n",
    "    \n",
    "   "
   ]
  },
  {
   "cell_type": "code",
   "execution_count": 18,
   "metadata": {},
   "outputs": [
    {
     "data": {
      "text/plain": [
       "3980"
      ]
     },
     "execution_count": 18,
     "metadata": {},
     "output_type": "execute_result"
    }
   ],
   "source": [
    "len(Bank_Name)"
   ]
  },
  {
   "cell_type": "code",
   "execution_count": 19,
   "metadata": {},
   "outputs": [
    {
     "data": {
      "text/plain": [
       "3980"
      ]
     },
     "execution_count": 19,
     "metadata": {},
     "output_type": "execute_result"
    }
   ],
   "source": [
    "len(Bank_Type)"
   ]
  },
  {
   "cell_type": "code",
   "execution_count": 20,
   "metadata": {},
   "outputs": [
    {
     "data": {
      "text/plain": [
       "3980"
      ]
     },
     "execution_count": 20,
     "metadata": {},
     "output_type": "execute_result"
    }
   ],
   "source": [
    "len(Location)"
   ]
  },
  {
   "cell_type": "code",
   "execution_count": 21,
   "metadata": {},
   "outputs": [
    {
     "data": {
      "text/plain": [
       "3980"
      ]
     },
     "execution_count": 21,
     "metadata": {},
     "output_type": "execute_result"
    }
   ],
   "source": [
    "len(Bank_Caption)"
   ]
  },
  {
   "cell_type": "code",
   "execution_count": 22,
   "metadata": {},
   "outputs": [
    {
     "data": {
      "text/plain": [
       "3980"
      ]
     },
     "execution_count": 22,
     "metadata": {},
     "output_type": "execute_result"
    }
   ],
   "source": [
    "len(User_Name)"
   ]
  },
  {
   "cell_type": "code",
   "execution_count": 23,
   "metadata": {},
   "outputs": [
    {
     "data": {
      "text/plain": [
       "3980"
      ]
     },
     "execution_count": 23,
     "metadata": {},
     "output_type": "execute_result"
    }
   ],
   "source": [
    "len(Bank_Rating)"
   ]
  },
  {
   "cell_type": "code",
   "execution_count": 24,
   "metadata": {},
   "outputs": [
    {
     "data": {
      "text/plain": [
       "3980"
      ]
     },
     "execution_count": 24,
     "metadata": {},
     "output_type": "execute_result"
    }
   ],
   "source": [
    "len(Rating_Comment)"
   ]
  },
  {
   "cell_type": "code",
   "execution_count": 25,
   "metadata": {},
   "outputs": [
    {
     "data": {
      "text/plain": [
       "3980"
      ]
     },
     "execution_count": 25,
     "metadata": {},
     "output_type": "execute_result"
    }
   ],
   "source": [
    "len(User_Comment)"
   ]
  },
  {
   "cell_type": "code",
   "execution_count": null,
   "metadata": {},
   "outputs": [],
   "source": []
  },
  {
   "cell_type": "code",
   "execution_count": 48,
   "metadata": {},
   "outputs": [],
   "source": [
    "# Creating the DataFrame with using Pandas\n",
    "Bank_Bazaar = pd.DataFrame()"
   ]
  },
  {
   "cell_type": "code",
   "execution_count": 49,
   "metadata": {},
   "outputs": [],
   "source": [
    "Bank_Bazaar['Bank_Name'] = Bank_Name\n",
    "Bank_Bazaar['Bank_Type'] = Bank_Type\n",
    "Bank_Bazaar['Location'] = Location\n",
    "Bank_Bazaar['Bank_Caption'] = Bank_Caption\n",
    "Bank_Bazaar['User_Name'] = User_Name\n",
    "Bank_Bazaar['Bank_Rating'] = Bank_Rating\n",
    "Bank_Bazaar['Rating_Comment'] = Rating_Comment\n",
    "Bank_Bazaar['User_Comment'] = User_Comment\n"
   ]
  },
  {
   "cell_type": "code",
   "execution_count": 50,
   "metadata": {},
   "outputs": [
    {
     "data": {
      "text/plain": [
       "(3980, 8)"
      ]
     },
     "execution_count": 50,
     "metadata": {},
     "output_type": "execute_result"
    }
   ],
   "source": [
    "Bank_Bazaar.shape"
   ]
  },
  {
   "cell_type": "code",
   "execution_count": 28,
   "metadata": {},
   "outputs": [],
   "source": [
    "Bank_Name = []\n",
    "Bank_Type = []\n",
    "Location = []\n",
    "Bank_Caption = []\n",
    "User_Name = []\n",
    "Bank_Rating = []\n",
    "Rating_Comment = []\n",
    "User_Comment = []\n"
   ]
  },
  {
   "cell_type": "code",
   "execution_count": 29,
   "metadata": {},
   "outputs": [],
   "source": [
    "for i in range(200,400,1):\n",
    "    page = requests.get('https://www.bankbazaar.com/reviews.html?reviewPageNumber={}'.format(i))\n",
    "    soup = BeautifulSoup(page.text,'html.parser')   \n",
    "    bank = soup.find_all('div',class_='review-bank-title')\n",
    "    b_type = soup.find_all('div',{'itemprop':'itemReviewed'})\n",
    "    city = soup.find_all('div',class_='reviewer-profile')\n",
    "    code = soup.find_all('a',{'data-actionloc':'reviews:ReviewCards'})\n",
    "\n",
    "    name = soup.find_all(class_ = 'js-author-name')\n",
    "    rating = soup.find_all('span',{'itemprop':'ratingvalue'})  \n",
    "    word = soup.find_all('div',class_='rating-section review-user-score')\n",
    "    reviwes = soup.find_all(class_= 'text_here review-desc-more')\n",
    "\n",
    "    for item in bank:\n",
    "        Bank_Name.append(item.find('img').get('alt'))\n",
    "        \n",
    "    for k in b_type:\n",
    "        x = k.text\n",
    "        if len(re.findall(r'[LTCSPO]\\w+\\s\\w+',x)) == 1:\n",
    "            Bank_Type.append(re.findall(r'[LTCSPO]\\w+\\s\\w+',x)[0])\n",
    "        else:\n",
    "            Bank_Type.append(np.nan)\n",
    "            \n",
    "    for k in city:\n",
    "        x = k.text\n",
    "        if len(re.findall(r',\\s[a-z]\\w+',x)) == 1:\n",
    "            Location.append(re.findall(r',\\s[a-z]\\w+',x)[0])\n",
    "        else:\n",
    "            Location.append(np.nan) \n",
    "    \n",
    "    for item in code:\n",
    "        Bank_Caption.append(item.text)\n",
    "        \n",
    "            \n",
    "    for j in range(len(name)): \n",
    "        if name[j]:\n",
    "            n = name[j].text\n",
    "        else:\n",
    "            n=np.nan  \n",
    "        User_Name.append(n)\n",
    "            \n",
    "    for k in word:\n",
    "        x = k.text\n",
    "        if len(re.findall(r'\\b[GBPS]\\w+',x)) == 1:\n",
    "            Rating_Comment.append(re.findall(r'\\b[GBPS]\\w+',x)[0])\n",
    "        else:\n",
    "            Rating_Comment.append(np.nan) \n",
    "    \n",
    "    for j in range(len(rating)):\n",
    "        if rating[j]:\n",
    "            n = rating[j].text\n",
    "        else:\n",
    "            n= np.nan\n",
    "        Bank_Rating.append(n)\n",
    "    \n",
    "\n",
    "    for item in reviwes:\n",
    "        User_Comment.append(item.text)\n",
    "    \n",
    "       \n"
   ]
  },
  {
   "cell_type": "code",
   "execution_count": 30,
   "metadata": {},
   "outputs": [],
   "source": [
    "Bank_Bazaar1 = pd.DataFrame()"
   ]
  },
  {
   "cell_type": "code",
   "execution_count": 31,
   "metadata": {},
   "outputs": [],
   "source": [
    "Bank_Bazaar1['Bank_Name'] = Bank_Name\n",
    "Bank_Bazaar1['Bank_Type'] = Bank_Type\n",
    "Bank_Bazaar1['Location'] = Location\n",
    "Bank_Bazaar1['Bank_Caption'] = Bank_Caption\n",
    "Bank_Bazaar1['User_Name'] = User_Name\n",
    "Bank_Bazaar1['Bank_Rating'] = Bank_Rating\n",
    "Bank_Bazaar1['Rating_Comment'] = Rating_Comment\n",
    "Bank_Bazaar1['User_Comment'] = User_Comment\n"
   ]
  },
  {
   "cell_type": "code",
   "execution_count": 32,
   "metadata": {},
   "outputs": [
    {
     "data": {
      "text/plain": [
       "(4000, 8)"
      ]
     },
     "execution_count": 32,
     "metadata": {},
     "output_type": "execute_result"
    }
   ],
   "source": [
    "Bank_Bazaar1.shape"
   ]
  },
  {
   "cell_type": "code",
   "execution_count": 33,
   "metadata": {},
   "outputs": [],
   "source": [
    "Bank_Name = []\n",
    "Bank_Type = []\n",
    "Location = []\n",
    "Bank_Caption = []\n",
    "User_Name = []\n",
    "Bank_Rating = []\n",
    "Rating_Comment = []\n",
    "User_Comment = []\n"
   ]
  },
  {
   "cell_type": "code",
   "execution_count": 34,
   "metadata": {},
   "outputs": [],
   "source": [
    "for i in range(400,600,1):\n",
    "    page = requests.get('https://www.bankbazaar.com/reviews.html?reviewPageNumber={}'.format(i))\n",
    "    soup = BeautifulSoup(page.text,'html.parser')   \n",
    "    bank = soup.find_all('div',class_='review-bank-title')\n",
    "    b_type = soup.find_all('div',{'itemprop':'itemReviewed'})\n",
    "    city = soup.find_all('div',class_='reviewer-profile')\n",
    "    code = soup.find_all('a',{'data-actionloc':'reviews:ReviewCards'})\n",
    "\n",
    "    name = soup.find_all(class_ = 'js-author-name')\n",
    "    rating = soup.find_all('span',{'itemprop':'ratingvalue'})  \n",
    "    word = soup.find_all('div',class_='rating-section review-user-score')\n",
    "    reviwes = soup.find_all(class_= 'text_here review-desc-more')\n",
    "\n",
    "    for item in bank:\n",
    "        Bank_Name.append(item.find('img').get('alt'))\n",
    "        \n",
    "    for k in b_type:\n",
    "        x = k.text\n",
    "        if len(re.findall(r'[LTCSPO]\\w+\\s\\w+',x)) == 1:\n",
    "            Bank_Type.append(re.findall(r'[LTCSPO]\\w+\\s\\w+',x)[0])\n",
    "        else:\n",
    "            Bank_Type.append(np.nan)\n",
    "            \n",
    "    for k in city:\n",
    "        x = k.text\n",
    "        if len(re.findall(r',\\s[a-z]\\w+',x)) == 1:\n",
    "            Location.append(re.findall(r',\\s[a-z]\\w+',x)[0])\n",
    "        else:\n",
    "            Location.append(np.nan) \n",
    "    \n",
    "    for item in code:\n",
    "        Bank_Caption.append(item.text)\n",
    "        \n",
    "            \n",
    "    for j in range(len(name)): \n",
    "        if name[j]:\n",
    "            n = name[j].text\n",
    "        else:\n",
    "            n=np.nan  \n",
    "        User_Name.append(n)\n",
    "            \n",
    "    for k in word:\n",
    "        x = k.text\n",
    "        if len(re.findall(r'\\b[GBPS]\\w+',x)) == 1:\n",
    "            Rating_Comment.append(re.findall(r'\\b[GBPS]\\w+',x)[0])\n",
    "        else:\n",
    "            Rating_Comment.append(np.nan) \n",
    "    \n",
    "    for j in range(len(rating)):\n",
    "        if rating[j]:\n",
    "            n = rating[j].text\n",
    "        else:\n",
    "            n= np.nan\n",
    "        Bank_Rating.append(n)\n",
    "    \n",
    "\n",
    "    for item in reviwes:\n",
    "        User_Comment.append(item.text)\n",
    "    \n",
    "       "
   ]
  },
  {
   "cell_type": "code",
   "execution_count": 35,
   "metadata": {},
   "outputs": [],
   "source": [
    "Bank_Bazaar2 = pd.DataFrame()"
   ]
  },
  {
   "cell_type": "code",
   "execution_count": 36,
   "metadata": {},
   "outputs": [],
   "source": [
    "Bank_Bazaar2['Bank_Name'] = Bank_Name\n",
    "Bank_Bazaar2['Bank_Type'] = Bank_Type\n",
    "Bank_Bazaar2['Location'] = Location\n",
    "Bank_Bazaar2['Bank_Caption'] = Bank_Caption\n",
    "Bank_Bazaar2['User_Name'] = User_Name\n",
    "Bank_Bazaar2['Bank_Rating'] = Bank_Rating\n",
    "Bank_Bazaar2['Rating_Comment'] = Rating_Comment\n",
    "Bank_Bazaar2['User_Comment'] = User_Comment\n"
   ]
  },
  {
   "cell_type": "code",
   "execution_count": 38,
   "metadata": {},
   "outputs": [
    {
     "data": {
      "text/plain": [
       "(4000, 8)"
      ]
     },
     "execution_count": 38,
     "metadata": {},
     "output_type": "execute_result"
    }
   ],
   "source": [
    "Bank_Bazaar2.shape"
   ]
  },
  {
   "cell_type": "code",
   "execution_count": 51,
   "metadata": {},
   "outputs": [],
   "source": [
    "df1 = Bank_Bazaar.append(Bank_Bazaar1)\n"
   ]
  },
  {
   "cell_type": "code",
   "execution_count": 52,
   "metadata": {},
   "outputs": [],
   "source": [
    "df = df1.append(Bank_Bazaar2)\n"
   ]
  },
  {
   "cell_type": "code",
   "execution_count": 53,
   "metadata": {},
   "outputs": [
    {
     "data": {
      "text/plain": [
       "(11980, 8)"
      ]
     },
     "execution_count": 53,
     "metadata": {},
     "output_type": "execute_result"
    }
   ],
   "source": [
    "df.shape"
   ]
  },
  {
   "cell_type": "code",
   "execution_count": 54,
   "metadata": {},
   "outputs": [],
   "source": [
    "#importing the  data into a new excel file\n",
    "writer = pd.ExcelWriter('df.xlsx', engine ='xlsxwriter' )\n",
    "df.to_excel(writer, 'Sheet1')\n",
    "writer.save()"
   ]
  },
  {
   "cell_type": "code",
   "execution_count": null,
   "metadata": {},
   "outputs": [],
   "source": []
  }
 ],
 "metadata": {
  "kernelspec": {
   "display_name": "Python 3",
   "language": "python",
   "name": "python3"
  },
  "language_info": {
   "codemirror_mode": {
    "name": "ipython",
    "version": 3
   },
   "file_extension": ".py",
   "mimetype": "text/x-python",
   "name": "python",
   "nbconvert_exporter": "python",
   "pygments_lexer": "ipython3",
   "version": "3.7.3"
  }
 },
 "nbformat": 4,
 "nbformat_minor": 2
}
