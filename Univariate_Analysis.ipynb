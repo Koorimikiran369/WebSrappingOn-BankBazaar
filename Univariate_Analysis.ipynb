{
 "cells": [
  {
   "cell_type": "code",
   "execution_count": 1,
   "metadata": {},
   "outputs": [],
   "source": [
    "import pandas as pd\n",
    "import numpy as np\n",
    "import seaborn as sns\n",
    "import matplotlib.pyplot as plt\n",
    "%matplotlib inline"
   ]
  },
  {
   "cell_type": "code",
   "execution_count": 2,
   "metadata": {},
   "outputs": [],
   "source": [
    "df = pd.read_csv('Clean_data_set.csv')"
   ]
  },
  {
   "cell_type": "code",
   "execution_count": 3,
   "metadata": {},
   "outputs": [],
   "source": [
    "df.drop(columns = 'Unnamed: 0',inplace = True)\n"
   ]
  },
  {
   "cell_type": "code",
   "execution_count": 4,
   "metadata": {},
   "outputs": [
    {
     "data": {
      "text/html": [
       "<div>\n",
       "<style scoped>\n",
       "    .dataframe tbody tr th:only-of-type {\n",
       "        vertical-align: middle;\n",
       "    }\n",
       "\n",
       "    .dataframe tbody tr th {\n",
       "        vertical-align: top;\n",
       "    }\n",
       "\n",
       "    .dataframe thead th {\n",
       "        text-align: right;\n",
       "    }\n",
       "</style>\n",
       "<table border=\"1\" class=\"dataframe\">\n",
       "  <thead>\n",
       "    <tr style=\"text-align: right;\">\n",
       "      <th></th>\n",
       "      <th>Bank_Name</th>\n",
       "      <th>Bank_Type</th>\n",
       "      <th>Location</th>\n",
       "      <th>Bank_Caption</th>\n",
       "      <th>User_Name</th>\n",
       "      <th>Bank_Rating</th>\n",
       "      <th>Rating_Comment</th>\n",
       "      <th>User_Comment</th>\n",
       "    </tr>\n",
       "  </thead>\n",
       "  <tbody>\n",
       "    <tr>\n",
       "      <th>0</th>\n",
       "      <td>HDFC Bank</td>\n",
       "      <td>Personal Loan</td>\n",
       "      <td>salem</td>\n",
       "      <td>\"Need a quick response \"</td>\n",
       "      <td>PANDIYAN</td>\n",
       "      <td>4.0</td>\n",
       "      <td>Great</td>\n",
       "      <td>I was applied HD...</td>\n",
       "    </tr>\n",
       "    <tr>\n",
       "      <th>1</th>\n",
       "      <td>SBI</td>\n",
       "      <td>Personal Loan</td>\n",
       "      <td>proddatur</td>\n",
       "      <td>\"Best service\"</td>\n",
       "      <td>KUMAR</td>\n",
       "      <td>5.0</td>\n",
       "      <td>Blown</td>\n",
       "      <td>I have taken a p...</td>\n",
       "    </tr>\n",
       "    <tr>\n",
       "      <th>2</th>\n",
       "      <td>HDFC Bank</td>\n",
       "      <td>Personal Loan</td>\n",
       "      <td>proddatur</td>\n",
       "      <td>\"Average service\"</td>\n",
       "      <td>PAVAN</td>\n",
       "      <td>4.0</td>\n",
       "      <td>Great</td>\n",
       "      <td>I was applied HD...</td>\n",
       "    </tr>\n",
       "    <tr>\n",
       "      <th>3</th>\n",
       "      <td>Axis Bank</td>\n",
       "      <td>Personal Loan</td>\n",
       "      <td>pudukkottai</td>\n",
       "      <td>\"Need to improve customer services\"</td>\n",
       "      <td>DEVASAHAYAM</td>\n",
       "      <td>1.0</td>\n",
       "      <td>Bad</td>\n",
       "      <td>I have take a pe...</td>\n",
       "    </tr>\n",
       "    <tr>\n",
       "      <th>4</th>\n",
       "      <td>HDFC Bank</td>\n",
       "      <td>Personal Loan</td>\n",
       "      <td>pudukkottai</td>\n",
       "      <td>\"Good service\"</td>\n",
       "      <td>SELVIN</td>\n",
       "      <td>5.0</td>\n",
       "      <td>Blown</td>\n",
       "      <td>I have taken a t...</td>\n",
       "    </tr>\n",
       "  </tbody>\n",
       "</table>\n",
       "</div>"
      ],
      "text/plain": [
       "   Bank_Name      Bank_Type      Location  \\\n",
       "0  HDFC Bank  Personal Loan         salem   \n",
       "1        SBI  Personal Loan     proddatur   \n",
       "2  HDFC Bank  Personal Loan     proddatur   \n",
       "3  Axis Bank  Personal Loan   pudukkottai   \n",
       "4  HDFC Bank  Personal Loan   pudukkottai   \n",
       "\n",
       "                          Bank_Caption    User_Name  Bank_Rating  \\\n",
       "0             \"Need a quick response \"     PANDIYAN          4.0   \n",
       "1                       \"Best service\"        KUMAR          5.0   \n",
       "2                    \"Average service\"        PAVAN          4.0   \n",
       "3  \"Need to improve customer services\"  DEVASAHAYAM          1.0   \n",
       "4                       \"Good service\"      SELVIN           5.0   \n",
       "\n",
       "  Rating_Comment                                       User_Comment  \n",
       "0          Great                                I was applied HD...  \n",
       "1          Blown                                I have taken a p...  \n",
       "2          Great                                I was applied HD...  \n",
       "3            Bad                                I have take a pe...  \n",
       "4          Blown                                I have taken a t...  "
      ]
     },
     "execution_count": 4,
     "metadata": {},
     "output_type": "execute_result"
    }
   ],
   "source": [
    "df.head()"
   ]
  },
  {
   "cell_type": "code",
   "execution_count": 5,
   "metadata": {},
   "outputs": [
    {
     "data": {
      "text/plain": [
       "(9790, 8)"
      ]
     },
     "execution_count": 5,
     "metadata": {},
     "output_type": "execute_result"
    }
   ],
   "source": [
    "df.shape"
   ]
  },
  {
   "cell_type": "code",
   "execution_count": 6,
   "metadata": {},
   "outputs": [
    {
     "data": {
      "text/plain": [
       "Index(['Bank_Name', 'Bank_Type', 'Location', 'Bank_Caption', 'User_Name',\n",
       "       'Bank_Rating', 'Rating_Comment', 'User_Comment'],\n",
       "      dtype='object')"
      ]
     },
     "execution_count": 6,
     "metadata": {},
     "output_type": "execute_result"
    }
   ],
   "source": [
    "df.keys()"
   ]
  },
  {
   "cell_type": "markdown",
   "metadata": {},
   "source": [
    "### Bank_Name Column"
   ]
  },
  {
   "cell_type": "code",
   "execution_count": 7,
   "metadata": {},
   "outputs": [
    {
     "data": {
      "text/plain": [
       "HDFC Bank                                2196\n",
       "review                                   1566\n",
       "IndusInd Bank                            1459\n",
       "Citibank                                  643\n",
       "ICICI Bank                                521\n",
       "SBI Cards                                 489\n",
       "Axis Bank                                 400\n",
       "SBI                                       364\n",
       "Kotak                                     307\n",
       "Fullerton                                 267\n",
       "LIC                                       212\n",
       "YES Bank                                  203\n",
       "RBL Bank                                  175\n",
       "Incred                                    134\n",
       "HSBC Bank                                 133\n",
       "Canara Bank                                56\n",
       "Tata capital                               51\n",
       "Bajaj Finserv                              40\n",
       "Standard Chartered Bank                    37\n",
       "American Express                           37\n",
       "ICICI Lombard                              34\n",
       "Punjab National Bank                       33\n",
       "PaySense                                   28\n",
       "IDBI                                       26\n",
       "Bajaj Allianz                              24\n",
       "EDELWIESS                                  24\n",
       "United India                               22\n",
       "New India                                  21\n",
       "HDFC Ergo                                  20\n",
       "Bajaj Allianz Life                         18\n",
       "                                         ... \n",
       "Corporation Bank                            3\n",
       "Bharti Axa                                  2\n",
       "ICICI                                       2\n",
       "Toyota Finance                              2\n",
       "Sundaram Finance                            2\n",
       "andhra Bank                                 2\n",
       "Chola Ms                                    2\n",
       "Kotak Life                                  2\n",
       "Karnataka Bank                              2\n",
       "IOB                                         2\n",
       "Aegon Life                                  1\n",
       "L and T                                     1\n",
       "Cashe                                       1\n",
       "Early Salary                                1\n",
       "South Indian Bank                           1\n",
       "Tata AIA                                    1\n",
       "Reliance Commercial Finance                 1\n",
       "UCO                                         1\n",
       "HDFC Limited                                1\n",
       "SBI General                                 1\n",
       "Edelweiss Tokio                             1\n",
       "Bank of Maharashtra                         1\n",
       "Union Bank of India                         1\n",
       "Oriental Bank of Commerce                   1\n",
       "Future Generali                             1\n",
       "Canara HSBC Oriental Bank of Commerce       1\n",
       "PNB Metlife                                 1\n",
       "Cholamandalam Finance                       1\n",
       "Aviva                                       1\n",
       "Birla Sun                                   1\n",
       "Name: Bank_Name, Length: 86, dtype: int64"
      ]
     },
     "execution_count": 7,
     "metadata": {},
     "output_type": "execute_result"
    }
   ],
   "source": [
    "d1 = df['Bank_Name'].value_counts()\n",
    "d1"
   ]
  },
  {
   "cell_type": "code",
   "execution_count": 8,
   "metadata": {},
   "outputs": [
    {
     "data": {
      "text/plain": [
       "<matplotlib.axes._subplots.AxesSubplot at 0x22ec97193c8>"
      ]
     },
     "execution_count": 8,
     "metadata": {},
     "output_type": "execute_result"
    },
    {
     "data": {
      "image/png": "[encoded data removed]",
      "text/plain": [
       "<Figure size 720x360 with 2 Axes>"
      ]
     },
     "metadata": {
      "needs_background": "light"
     },
     "output_type": "display_data"
    }
   ],
   "source": [
    "f,ax = plt.subplots(1,2,figsize = (10,5)) # defining plot size and subplots\n",
    "f.suptitle('Bank_Name vs count Relation')\n",
    "d1.head(20).plot('barh', ax = ax[0])\n",
    "d1.tail(20).plot('bar',ax = ax[1])"
   ]
  },
  {
   "cell_type": "markdown",
   "metadata": {},
   "source": [
    "### Observations:"
   ]
  },
  {
   "cell_type": "markdown",
   "metadata": {},
   "source": [
    "- The maximum repeated bank is HDFC it has above 2000 count\n",
    "- review bank having the count as in between 1500 to 1700 count"
   ]
  },
  {
   "cell_type": "markdown",
   "metadata": {},
   "source": [
    "### Bank_Type Column"
   ]
  },
  {
   "cell_type": "code",
   "execution_count": 9,
   "metadata": {},
   "outputs": [],
   "source": [
    "d2 = df['Bank_Type'].value_counts()"
   ]
  },
  {
   "cell_type": "code",
   "execution_count": 10,
   "metadata": {},
   "outputs": [
    {
     "data": {
      "text/plain": [
       "Credit Card         4156\n",
       "Personal Loan       2423\n",
       "Saving Account      1453\n",
       "Other Loan           868\n",
       "Life Insurance       299\n",
       "Two Wheeler          249\n",
       "Consumer Durable     196\n",
       "Car Loan              79\n",
       "Car Insurance         52\n",
       "Current Account       11\n",
       "Loan Against           3\n",
       "Travel Insurance       1\n",
       "Name: Bank_Type, dtype: int64"
      ]
     },
     "execution_count": 10,
     "metadata": {},
     "output_type": "execute_result"
    }
   ],
   "source": [
    "d2"
   ]
  },
  {
   "cell_type": "code",
   "execution_count": 11,
   "metadata": {},
   "outputs": [
    {
     "data": {
      "text/plain": [
       "<matplotlib.axes._subplots.AxesSubplot at 0x22ec9a46cc0>"
      ]
     },
     "execution_count": 11,
     "metadata": {},
     "output_type": "execute_result"
    },
    {
     "data": {
      "image/png": "[encoded data removed]",
      "text/plain": [
       "<Figure size 720x360 with 2 Axes>"
      ]
     },
     "metadata": {
      "needs_background": "light"
     },
     "output_type": "display_data"
    }
   ],
   "source": [
    "f,ax = plt.subplots(1,2,figsize = (10,5)) # defining plot size and subplots\n",
    "f.suptitle('Bank_Type vs count Relation')\n",
    "d2.head(6).plot('barh', ax = ax[0])\n",
    "d2.tail(6).plot('bar',ax = ax[1])"
   ]
  },
  {
   "cell_type": "markdown",
   "metadata": {},
   "source": [
    "#### Oservations:\n",
    "- In `Bank_Type` column  `Credit Card` type having maximum number i.e, above 4000 counts\n",
    "- Second highest type is `Personal Loan` type count is in between `2000-3000`"
   ]
  },
  {
   "cell_type": "markdown",
   "metadata": {},
   "source": [
    "### Location Column"
   ]
  },
  {
   "cell_type": "code",
   "execution_count": 12,
   "metadata": {},
   "outputs": [],
   "source": [
    "d3 = df['Location'].value_counts()"
   ]
  },
  {
   "cell_type": "code",
   "execution_count": 13,
   "metadata": {},
   "outputs": [
    {
     "data": {
      "text/plain": [
       " bangalore         1705\n",
       " hyderabad         1439\n",
       " chennai           1062\n",
       " mumbai             607\n",
       " new                595\n",
       " coimbatore         360\n",
       " kolkata            344\n",
       " pune               281\n",
       " thane              183\n",
       " ahmedabad          178\n",
       " gurgaon            130\n",
       " jaipur             119\n",
       " noida              105\n",
       " tirupur             86\n",
       " visakhapatnam       83\n",
       " kochi               75\n",
       " erode               72\n",
       " vijayawada          64\n",
       " surat               63\n",
       " lucknow             61\n",
       " faridabad           60\n",
       " indore              59\n",
       " madurai             59\n",
       " ghaziabad           58\n",
       " vadodara            56\n",
       " mysore              55\n",
       " navi                53\n",
       " tiruchirapalli      48\n",
       " nellore             45\n",
       " guntur              38\n",
       "                   ... \n",
       " giddarbaha           1\n",
       " manawar              1\n",
       " jhansi               1\n",
       " calicut              1\n",
       " krishnanagar         1\n",
       " kannur               1\n",
       " sangrur              1\n",
       " hoshiarpur           1\n",
       " saharanpur           1\n",
       " kharagpur            1\n",
       " purnia               1\n",
       " tenali               1\n",
       " tanuku               1\n",
       " unnao                1\n",
       " sirohi               1\n",
       " anand                1\n",
       " auraiya              1\n",
       " bhagalpur            1\n",
       " rayachoti            1\n",
       " tadpatri             1\n",
       " tiruvannamalai       1\n",
       " washim               1\n",
       " jalalabad            1\n",
       " ratlam               1\n",
       " shimoga              1\n",
       " tiptur               1\n",
       " godhra               1\n",
       " jalna                1\n",
       " anakapalle           1\n",
       " rajula               1\n",
       "Name: Location, Length: 293, dtype: int64"
      ]
     },
     "execution_count": 13,
     "metadata": {},
     "output_type": "execute_result"
    }
   ],
   "source": [
    "d3"
   ]
  },
  {
   "cell_type": "code",
   "execution_count": 14,
   "metadata": {},
   "outputs": [
    {
     "data": {
      "text/plain": [
       "<matplotlib.axes._subplots.AxesSubplot at 0x22ec9c36ac8>"
      ]
     },
     "execution_count": 14,
     "metadata": {},
     "output_type": "execute_result"
    },
    {
     "data": {
      "image/png": "[encoded data removed]",
      "text/plain": [
       "<Figure size 720x360 with 2 Axes>"
      ]
     },
     "metadata": {
      "needs_background": "light"
     },
     "output_type": "display_data"
    }
   ],
   "source": [
    "f,ax = plt.subplots(1,2,figsize = (10,5)) # defining plot size and subplots\n",
    "f.suptitle('Location vs count of properties in that location')\n",
    "d3.head(20).plot('barh', ax = ax[0])\n",
    "d3.tail(20).plot('bar',ax = ax[1])"
   ]
  },
  {
   "cell_type": "markdown",
   "metadata": {},
   "source": [
    "#### Observations:\n",
    "\n",
    "- In the `Location` column `banglore` city having more count i.e, in between `1650-1750`\n",
    "- `hyderabad` city having second maximum values and the count is in between `1300-1500`\n",
    "- `chennai` city having the third highest value counts i.e, in between `1000-1100`\n"
   ]
  },
  {
   "cell_type": "markdown",
   "metadata": {},
   "source": [
    "### Bank_Rating Column"
   ]
  },
  {
   "cell_type": "code",
   "execution_count": 15,
   "metadata": {},
   "outputs": [],
   "source": [
    "d4 = df['Bank_Rating'].value_counts()"
   ]
  },
  {
   "cell_type": "code",
   "execution_count": 16,
   "metadata": {},
   "outputs": [
    {
     "data": {
      "text/plain": [
       "5.0    4571\n",
       "4.0    3172\n",
       "3.0    1397\n",
       "1.0     390\n",
       "3.5     251\n",
       "1.5       9\n",
       "Name: Bank_Rating, dtype: int64"
      ]
     },
     "execution_count": 16,
     "metadata": {},
     "output_type": "execute_result"
    }
   ],
   "source": [
    "d4"
   ]
  },
  {
   "cell_type": "code",
   "execution_count": 23,
   "metadata": {},
   "outputs": [
    {
     "data": {
      "text/plain": [
       "Text(0.5, 1.0, 'count of ratings')"
      ]
     },
     "execution_count": 23,
     "metadata": {},
     "output_type": "execute_result"
    },
    {
     "data": {
      "image/png": "[encoded data removed]",
      "text/plain": [
       "<Figure size 432x288 with 1 Axes>"
      ]
     },
     "metadata": {
      "needs_background": "light"
     },
     "output_type": "display_data"
    }
   ],
   "source": [
    "df['Bank_Rating'].plot('hist')\n",
    "plt.title('count of ratings')"
   ]
  },
  {
   "cell_type": "markdown",
   "metadata": {},
   "source": [
    "#### Observations:\n",
    "\n",
    "- In the `Bank_Rating` column rated as `5.0` having maximum values and the count is above 4000\n",
    "- The second maximum is `4.0` count is approximately `3000` values\n",
    "- `1.5` having least number values "
   ]
  },
  {
   "cell_type": "code",
   "execution_count": 17,
   "metadata": {},
   "outputs": [
    {
     "data": {
      "text/plain": [
       "count    9790.000000\n",
       "mean        4.189581\n",
       "std         0.971824\n",
       "min         1.000000\n",
       "25%         4.000000\n",
       "50%         4.000000\n",
       "75%         5.000000\n",
       "max         5.000000\n",
       "Name: Bank_Rating, dtype: float64"
      ]
     },
     "execution_count": 17,
     "metadata": {},
     "output_type": "execute_result"
    }
   ],
   "source": [
    "df['Bank_Rating'].describe()"
   ]
  },
  {
   "cell_type": "markdown",
   "metadata": {},
   "source": []
  },
  {
   "cell_type": "markdown",
   "metadata": {},
   "source": [
    "### Rating_Comment column"
   ]
  },
  {
   "cell_type": "code",
   "execution_count": 19,
   "metadata": {},
   "outputs": [],
   "source": [
    "d5 = df['Rating_Comment'].value_counts()"
   ]
  },
  {
   "cell_type": "code",
   "execution_count": 20,
   "metadata": {},
   "outputs": [
    {
     "data": {
      "text/plain": [
       "Blown           4571\n",
       "Great           3172\n",
       "Satisfactory    1397\n",
       "Bad              399\n",
       "Pretty           251\n",
       "Name: Rating_Comment, dtype: int64"
      ]
     },
     "execution_count": 20,
     "metadata": {},
     "output_type": "execute_result"
    }
   ],
   "source": [
    "d5"
   ]
  },
  {
   "cell_type": "code",
   "execution_count": 21,
   "metadata": {},
   "outputs": [
    {
     "data": {
      "text/plain": [
       "Text(0.5, 1.0, 'status of Rating')"
      ]
     },
     "execution_count": 21,
     "metadata": {},
     "output_type": "execute_result"
    },
    {
     "data": {
      "image/png": "[encoded data removed]",
      "text/plain": [
       "<Figure size 576x360 with 1 Axes>"
      ]
     },
     "metadata": {
      "needs_background": "light"
     },
     "output_type": "display_data"
    }
   ],
   "source": [
    "fig,ax = plt.subplots(figsize =(8,5))\n",
    "sns.countplot(df['Rating_Comment'],ax = ax)\n",
    "plt.title('status of Rating')\n",
    "#plt.yscale('log')\n"
   ]
  },
  {
   "cell_type": "markdown",
   "metadata": {},
   "source": [
    "#### Observations:\n",
    "\n",
    "- `Blown` type having most number of values in the `Rating_Comment` column\n",
    "- `Great` type having second most number of values in the `Rating_Comment` column\n",
    "- `Pretty` type having least values"
   ]
  },
  {
   "cell_type": "code",
   "execution_count": null,
   "metadata": {},
   "outputs": [],
   "source": []
  }
 ],
 "metadata": {
  "kernelspec": {
   "display_name": "Python 3",
   "language": "python",
   "name": "python3"
  },
  "language_info": {
   "codemirror_mode": {
    "name": "ipython",
    "version": 3
   },
   "file_extension": ".py",
   "mimetype": "text/x-python",
   "name": "python",
   "nbconvert_exporter": "python",
   "pygments_lexer": "ipython3",
   "version": "3.7.3"
  }
 },
 "nbformat": 4,
 "nbformat_minor": 2
}
